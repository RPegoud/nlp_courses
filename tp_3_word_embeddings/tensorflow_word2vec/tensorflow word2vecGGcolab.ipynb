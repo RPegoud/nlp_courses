{
  "cells": [
    {
      "cell_type": "code",
      "execution_count": 1,
      "metadata": {
        "id": "jVHr0DePn74a"
      },
      "outputs": [],
      "source": [
        "%%capture\n",
        "!pip install --upgrade pip\n",
        "!pip install tensorflow numpy==1.16 sklearn matplotlib"
      ]
    },
    {
      "cell_type": "code",
      "execution_count": 2,
      "metadata": {
        "colab": {
          "base_uri": "https://localhost:8080/"
        },
        "id": "k2Ok_W_Qn74c",
        "outputId": "ac35d523-d981-49fb-d230-9582bfca4afd"
      },
      "outputs": [
        {
          "name": "stderr",
          "output_type": "stream",
          "text": [
            "WARNING:tensorflow:From /usr/local/lib/python3.10/dist-packages/tensorflow/python/compat/v2_compat.py:107: disable_resource_variables (from tensorflow.python.ops.variable_scope) is deprecated and will be removed in a future version.\n",
            "Instructions for updating:\n",
            "non-resource variables are not supported in the long term\n"
          ]
        }
      ],
      "source": [
        "import tensorflow.compat.v1 as tf\n",
        "tf.disable_v2_behavior()\n",
        "import numpy as np"
      ]
    },
    {
      "cell_type": "code",
      "execution_count": 1,
      "metadata": {
        "id": "adXaN2NSn74c"
      },
      "outputs": [],
      "source": [
        "corpus_raw = 'He is the king . The king is royal . She is the royal queen '\n",
        "corpus_raw = corpus_raw.lower()\n"
      ]
    },
    {
      "cell_type": "code",
      "execution_count": 2,
      "metadata": {
        "colab": {
          "base_uri": "https://localhost:8080/"
        },
        "id": "LL0pQYT1n74c",
        "outputId": "db21aee5-2ce3-4512-8776-ae1d83b82249"
      },
      "outputs": [
        {
          "name": "stdout",
          "output_type": "stream",
          "text": [
            "{'he': 0, 'is': 9, 'the': 10, 'king': 5, 'royal': 11, 'she': 8, 'queen': 12}\n"
          ]
        }
      ],
      "source": [
        "words = []\n",
        "# parse through the corpus and remove the dots\n",
        "for word in corpus_raw.split():\n",
        "  if word !='.':\n",
        "    words.append(word)\n",
        "\n",
        "\n",
        "# Convert words into integers and vice versa\n",
        "word2int = {}\n",
        "int2word = {}\n",
        "vocab_size = len(words)\n",
        "\n",
        "for i, word in enumerate(words):\n",
        "    # TODO 1: Fill in the logic for word2int and int2word mappings\n",
        "    # for example: word_to_int has words as keys and integers as value\n",
        "    word2int[word]=i\n",
        "    int2word[i] = word\n",
        "print(word2int)"
      ]
    },
    {
      "cell_type": "code",
      "execution_count": 3,
      "metadata": {
        "id": "5wq4i5iOn74d"
      },
      "outputs": [
        {
          "name": "stdout",
          "output_type": "stream",
          "text": [
            "[['he', 'is', 'the', 'king'], ['the', 'king', 'is', 'royal'], ['she', 'is', 'the', 'royal', 'queen']]\n"
          ]
        }
      ],
      "source": [
        "# raw sentences is a list of sentences.\n",
        "raw_sentences = corpus_raw.split('.')\n",
        "sentences = []\n",
        "for sentence in raw_sentences:\n",
        "    sentences.append(sentence.split())\n",
        "\n",
        "print(sentences)"
      ]
    },
    {
      "cell_type": "code",
      "execution_count": 6,
      "metadata": {
        "id": "DlCnG8uhn74d"
      },
      "outputs": [],
      "source": [
        "WINDOW_SIZE = 2\n",
        "data = []\n",
        "for sentence in sentences:\n",
        "    for word_index, word in enumerate(sentence):\n",
        "        for nb_word in sentence[max(word_index - WINDOW_SIZE, 0) : min(word_index + WINDOW_SIZE, len(sentence)) + 1] :\n",
        "            if nb_word != word:\n",
        "                data.append([word, nb_word])"
      ]
    },
    {
      "attachments": {},
      "cell_type": "markdown",
      "metadata": {
        "id": "SCbvOB_Fn74d"
      },
      "source": [
        "### ***What does the previous cell do ?***\n",
        "* We are going through each sentence in the corpus (that have been dlimited by the dot). Then for each sentence we are going through each word and we are creating a list of words that are in the window of the word we are looking at."
      ]
    },
    {
      "cell_type": "code",
      "execution_count": 7,
      "metadata": {
        "id": "g2gQXJRun74e"
      },
      "outputs": [],
      "source": [
        "\n",
        "def to_one_hot(data_point_index, vocab_size):\n",
        "    # TODO 2: Implement the one-hot encoding function here.\n",
        "    # initialize a list of zeros equal to vocab_size\n",
        "    # turn this list into a one hot vector for the data_point_index\n",
        "    temp = np.zeros(vocab_size)\n",
        "    temp[data_point_index] = 1\n",
        "    return temp\n"
      ]
    },
    {
      "cell_type": "code",
      "execution_count": 9,
      "metadata": {
        "id": "s-aMaogrn74e"
      },
      "outputs": [],
      "source": [
        "x_train = [] # input words\n",
        "y_train = [] # output words\n",
        "\n",
        "for data_word in data:\n",
        "    # TODO 3: Append appropriate one-hot encoded vectors to x_train and y_train\n",
        "    x_train.append(to_one_hot(word2int[data_word[0]], vocab_size))\n",
        "    y_train.append(to_one_hot(word2int[data_word[1]], vocab_size))"
      ]
    },
    {
      "cell_type": "code",
      "execution_count": 10,
      "metadata": {
        "id": "mJKkdP00n74e"
      },
      "outputs": [],
      "source": [
        "\n",
        "# Convert lists to numpy arrays\n",
        "x_train = np.asarray(x_train)\n",
        "y_train = np.asarray(y_train)\n",
        "\n",
        "x = tf.placeholder(tf.float32, shape=(None, vocab_size))\n",
        "y_label = tf.placeholder(tf.float32, shape=(None, vocab_size))"
      ]
    },
    {
      "attachments": {},
      "cell_type": "markdown",
      "metadata": {
        "id": "PlMaUPmrn74e"
      },
      "source": [
        "x_train = np.asarray(x_train)\n",
        "y_train = np.asarray(y_train)\n",
        "\n",
        "x = tf.placeholder(tf.float32, shape=(None, vocab_size))\n",
        "y_label = tf.placeholder(tf.float32, shape=(None, vocab_size))\n",
        "### ***What does the previous cell do ?***\n",
        "* np.asarray permit to convert a list into an array \n",
        "* Then we defind x and y_label as placeholder: a variable/data which will be assigned later. "
      ]
    },
    {
      "cell_type": "code",
      "execution_count": 11,
      "metadata": {
        "id": "VyAIB48tn74e"
      },
      "outputs": [],
      "source": [
        "\n",
        "EMBEDDING_DIM = 5\n",
        "\n",
        "# TODO 5: Initialize weight matrices W1 and W2 with random values, and biases b1 and b2.\n",
        "# Use tf.Variable and tf.random_normal with the appropriate shapes to initialize layers and biases\n",
        "# look at the slides if you don't remember the layer shapes\n",
        "\n",
        "W1 =  tf.Variable(tf.random_normal([vocab_size,EMBEDDING_DIM]))\n",
        "b1 = tf.Variable(tf.random_normal([EMBEDDING_DIM]))\n",
        "W2 = tf.Variable(tf.random_normal([EMBEDDING_DIM,vocab_size]))\n",
        "b2 = tf.Variable(tf.random_normal([vocab_size]))"
      ]
    },
    {
      "cell_type": "code",
      "execution_count": 13,
      "metadata": {
        "id": "J1cUZPsan74f"
      },
      "outputs": [],
      "source": [
        "\n",
        "# TODO 6: Calculate the hidden representation of the word.\n",
        "# \"hidden representation\" means the value of the vector after the first layer\n",
        "# i.e. the vector within the latent space of the network\n",
        "# use tf.add and tf.matmul\n",
        "hidden_representation = tf.add(tf.matmul(x,W1),b1)"
      ]
    },
    {
      "cell_type": "code",
      "execution_count": 14,
      "metadata": {
        "id": "l8WysMEtn74f"
      },
      "outputs": [],
      "source": [
        "\n",
        "# TODO 7: Compute the prediction, the output from the output layer.\n",
        "# hint: the prediction follows is the hidden representation passed through the second layer\n",
        "# don't forget to add the softmax to turn the outputs into a probability distribution\n",
        "# you may use tf.nn.softmax for that\n",
        "prediction = tf.nn.softmax(tf.add(tf.matmul(hidden_representation, W2),b2))"
      ]
    },
    {
      "cell_type": "code",
      "execution_count": 15,
      "metadata": {
        "id": "WVA40-Gwn74f"
      },
      "outputs": [],
      "source": [
        "sess = tf.Session() # create a session \n",
        "init = tf.global_variables_initializer() # initialize all variables\n",
        "sess.run(init) "
      ]
    },
    {
      "attachments": {},
      "cell_type": "markdown",
      "metadata": {
        "id": "0hFcORV7n74f"
      },
      "source": [
        "sess = tf.Session()\n",
        "init = tf.global_variables_initializer()\n",
        "sess.run(init)\n",
        "### ***What does the previous cell do ?***\n",
        "* first we create a session, it just means that we are going to run the code in the session\n",
        "*  then we initialize all the variables, which means that we are going to assign them a value\n",
        "*  finally we run the session with the initialized variables"
      ]
    },
    {
      "cell_type": "code",
      "execution_count": 16,
      "metadata": {
        "id": "DybkbpUen74f"
      },
      "outputs": [],
      "source": [
        "# Define the loss function:\n",
        "loss = tf.reduce_mean(-tf.reduce_sum(y_label * tf.log(prediction), reduction_indices=[1]))"
      ]
    },
    {
      "attachments": {},
      "cell_type": "markdown",
      "metadata": {},
      "source": [
        "loss = tf.reduce_mean(-tf.reduce_sum(y_label * tf.log(prediction), reduction_indices=[1]))"
      ]
    },
    {
      "attachments": {},
      "cell_type": "markdown",
      "metadata": {
        "id": "kqjheVvRn74f"
      },
      "source": [
        "### ***Which loss function is this ?***\n",
        "* The loss function is the cross entropy loss function\n",
        "\n",
        "### ***Why do we use it here ?***\n",
        "* cross entropy loss function is good to use when we have a classification problem where its labels in one hot encoding for our multi-class output probability distribution."
      ]
    },
    {
      "cell_type": "code",
      "execution_count": 19,
      "metadata": {
        "id": "s9punzySn74f"
      },
      "outputs": [],
      "source": [
        "\n",
        "# Define the training step:\n",
        "# TODO 10: Use an optimizer to minimize the loss.\n",
        "# look through the documentation:\n",
        "# https://www.tensorflow.org/api_docs/python/tf/compat/v1/train/GradientDescentOptimizer\n",
        "# tf.compat.v1 is replaced with tf in our code\n",
        "train_step = tf.train.GradientDescentOptimizer(0.1).minimize(loss)"
      ]
    },
    {
      "cell_type": "code",
      "execution_count": 20,
      "metadata": {
        "id": "LM9L_9pzn74f"
      },
      "outputs": [],
      "source": [
        "\n",
        "n_iters = 10000\n",
        "\n",
        "for _ in range(n_iters):\n",
        "    sess.run(train_step, feed_dict={x: x_train, y_label: y_train})\n",
        "\n",
        "vectors = sess.run(W1 + b1)"
      ]
    },
    {
      "cell_type": "code",
      "execution_count": null,
      "metadata": {
        "id": "y0yDEzv_n74f"
      },
      "outputs": [],
      "source": []
    },
    {
      "cell_type": "markdown",
      "metadata": {
        "id": "Yjojd6WPn74g"
      },
      "source": [
        "### ***Reminder***\n",
        "\n",
        "Euclidian distance:\n",
        "$$ ||x-y||_2 = \\sqrt{ \\sum_{i=1}^{N} (x_i - y_i)^2 } $$"
      ]
    },
    {
      "cell_type": "code",
      "execution_count": 21,
      "metadata": {
        "id": "18vrbDiVn74g"
      },
      "outputs": [],
      "source": [
        "# TODO 11 (last one!): implement the euclidian distance function using numpy\n",
        "def euclidean_dist(vec1, vec2):\n",
        "    distance = np.sqrt(np.sum(np.square(vec1-vec2)))\n",
        "    return distance"
      ]
    },
    {
      "attachments": {},
      "cell_type": "markdown",
      "metadata": {
        "id": "U17BZ2don74g"
      },
      "source": [
        "### ***What is TSNE ? How is it useful here ?***\n",
        "* The TSNE \n"
      ]
    },
    {
      "cell_type": "code",
      "execution_count": 22,
      "metadata": {
        "colab": {
          "base_uri": "https://localhost:8080/"
        },
        "id": "rtKs9wzZn74g",
        "outputId": "10bd54fa-747d-488d-8b7c-d3db5ca74f15"
      },
      "outputs": [
        {
          "name": "stdout",
          "output_type": "stream",
          "text": [
            "[[ 0.97416127 -0.22585388]\n",
            " [-0.54362106  0.83933085]\n",
            " [-0.8678058   0.4969035 ]\n",
            " [ 0.9559456  -0.29354367]\n",
            " [-0.9774664   0.21109106]\n",
            " [ 0.979977   -0.19911085]\n",
            " [-0.99998444 -0.00557128]\n",
            " [ 0.9790458  -0.20364009]\n",
            " [ 0.99888766 -0.04715269]\n",
            " [-0.30713022  0.9516675 ]\n",
            " [-0.9582839   0.285818  ]\n",
            " [-0.99551785 -0.09457336]\n",
            " [ 0.92998606 -0.3675947 ]]\n"
          ]
        }
      ],
      "source": [
        "from sklearn.manifold import TSNE\n",
        "\n",
        "model = TSNE(n_components=2, perplexity=2, random_state=0)\n",
        "np.set_printoptions(suppress=True)\n",
        "vectors = model.fit_transform(vectors)\n",
        "\n",
        "from sklearn import preprocessing\n",
        "\n",
        "normalizer = preprocessing.Normalizer()\n",
        "vectors =  normalizer.fit_transform(vectors, 'l2')\n",
        "\n",
        "print(vectors)"
      ]
    },
    {
      "cell_type": "code",
      "execution_count": 23,
      "metadata": {
        "colab": {
          "base_uri": "https://localhost:8080/",
          "height": 680
        },
        "id": "4UIWpPCEn74g",
        "outputId": "ccb850af-83ce-4293-e920-3ff2cc6c257a"
      },
      "outputs": [
        {
          "name": "stdout",
          "output_type": "stream",
          "text": [
            "['he', 'is', 'the', 'king', 'the', 'king', 'is', 'royal', 'she', 'is', 'the', 'royal', 'queen']\n",
            "he -0.22585388\n",
            "is 0.9516675\n",
            "the 0.285818\n",
            "king -0.19911085\n",
            "the 0.285818\n",
            "king -0.19911085\n",
            "is 0.9516675\n",
            "royal -0.09457336\n",
            "she -0.047152694\n",
            "is 0.9516675\n",
            "the 0.285818\n",
            "royal -0.09457336\n",
            "queen -0.3675947\n"
          ]
        },
        {
          "data": {
            "image/png": "[encoded data removed]",
            "text/plain": [
              "<Figure size 640x480 with 1 Axes>"
            ]
          },
          "metadata": {},
          "output_type": "display_data"
        }
      ],
      "source": [
        "import matplotlib.pyplot as plt\n",
        "\n",
        "fig, ax = plt.subplots()\n",
        "print(words)\n",
        "for word in words:\n",
        "    print(word, vectors[word2int[word]][1])\n",
        "    ax.annotate(word, (vectors[word2int[word]][0],vectors[word2int[word]][1] ))\n",
        "    ax.set_xlim(min([vectors[word2int[w]][0] for w in words])-1, max([vectors[word2int[w]][0] for w in words])+1)\n",
        "    ax.set_ylim(min([vectors[word2int[w]][1] for w in words])-1, max([vectors[word2int[w]][1] for w in words])+1)\n",
        "plt.show()"
      ]
    },
    {
      "cell_type": "markdown",
      "metadata": {
        "id": "NjpavU6rn74g"
      },
      "source": [
        "### ***You should see something similar:***\n",
        "<img src=\"word_2_vec_result.png\">"
      ]
    },
    {
      "attachments": {},
      "cell_type": "markdown",
      "metadata": {
        "id": "RiusD9vDn74g"
      },
      "source": [
        "### ***Comment on what you've understood from this course***\n",
        "For example:\n",
        "* What is word2vec ?\n",
        "  * What I understood is that the goal of word2vec is to create a vector representation of words that capture their meaning, and so their relationships with the context in which they are used.\n",
        "* Why is it an improvement on BoW and TF-IDF\n",
        "  * They don't capture the meaning of the words, then cat and dog have nothing in common. It's is then impossible for exemple to predit the next word in a sentence, or to find the closest word to a word...\n",
        "* What is an encoder network, can you imagine an example to illustrate this notion ?\n",
        "  * An encoder network is an encoder that use a neural network to encode the input into a new space representation. For example, we can use an encoder network to encode an image into a vector representation of the image."
      ]
    }
  ],
  "metadata": {
    "colab": {
      "provenance": []
    },
    "kernelspec": {
      "display_name": "nlp",
      "language": "python",
      "name": "python3"
    },
    "language_info": {
      "codemirror_mode": {
        "name": "ipython",
        "version": 3
      },
      "file_extension": ".py",
      "mimetype": "text/x-python",
      "name": "python",
      "nbconvert_exporter": "python",
      "pygments_lexer": "ipython3",
      "version": "3.10.12"
    },
    "vscode": {
      "interpreter": {
        "hash": "4a0b70708407332f34fb6b5ea2d7e8b8d6e5d2ad56a93e6c6532865c3453d8b7"
      }
    }
  },
  "nbformat": 4,
  "nbformat_minor": 0
}
